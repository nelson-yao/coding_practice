{
 "cells": [
  {
   "cell_type": "code",
   "execution_count": 34,
   "metadata": {},
   "outputs": [],
   "source": [
    "from collections import defaultdict\n",
    "\n",
    "class AttributeDict(defaultdict):\n",
    "    \n",
    "    def __init__(self):\n",
    "        super().__init__(AttributeDict)\n",
    "        self[\"queue\"] = []\n",
    "\n",
    "    def __getattr__(self, key):\n",
    "        try:\n",
    "            return self[key]\n",
    "        except KeyError:\n",
    "            raise AttributeError(key)\n",
    "\n",
    "    def __setattr__(self, key, value):\n",
    "        self[key] = value"
   ]
  },
  {
   "cell_type": "code",
   "execution_count": 36,
   "metadata": {},
   "outputs": [
    {
     "name": "stdout",
     "output_type": "stream",
     "text": [
      "[]\n",
      "[3]\n",
      "[3, AttributeDict(<class '__main__.AttributeDict'>, {'queue': []})]\n",
      "[3, AttributeDict(<class '__main__.AttributeDict'>, {'queue': []}), AttributeDict(<class '__main__.AttributeDict'>, {'queue': []})]\n",
      "[3, AttributeDict(<class '__main__.AttributeDict'>, {'queue': []}), AttributeDict(<class '__main__.AttributeDict'>, {'queue': []})]\n",
      "[3, AttributeDict(<class '__main__.AttributeDict'>, {'queue': []}), AttributeDict(<class '__main__.AttributeDict'>, {'queue': []})]\n",
      "[3, AttributeDict(<class '__main__.AttributeDict'>, {'queue': []}), AttributeDict(<class '__main__.AttributeDict'>, {'queue': []})]\n",
      "[3, AttributeDict(<class '__main__.AttributeDict'>, {'queue': []}), AttributeDict(<class '__main__.AttributeDict'>, {'queue': []})]\n",
      "[3, AttributeDict(<class '__main__.AttributeDict'>, {'queue': []}), AttributeDict(<class '__main__.AttributeDict'>, {'queue': []})]\n",
      "[3, AttributeDict(<class '__main__.AttributeDict'>, {'queue': []}), AttributeDict(<class '__main__.AttributeDict'>, {'queue': []})]\n",
      "[3, AttributeDict(<class '__main__.AttributeDict'>, {'queue': []}), AttributeDict(<class '__main__.AttributeDict'>, {'queue': []})]\n",
      "[3, AttributeDict(<class '__main__.AttributeDict'>, {'queue': []}), AttributeDict(<class '__main__.AttributeDict'>, {'queue': []})]\n"
     ]
    },
    {
     "data": {
      "text/plain": [
       "AttributeDict(__main__.AttributeDict,\n",
       "              {'queue': [3,\n",
       "                AttributeDict(__main__.AttributeDict, {'queue': []}),\n",
       "                AttributeDict(__main__.AttributeDict, {'queue': []})],\n",
       "               'one': 1,\n",
       "               'two': 2,\n",
       "               'three': 3,\n",
       "               'four': 4,\n",
       "               'five': 5,\n",
       "               'six': 6,\n",
       "               'plus': <function __main__.<lambda>(x, y)>,\n",
       "               'minus': <function __main__.<lambda>(x, y)>,\n",
       "               '_ipython_canary_method_should_not_exist_': AttributeDict(__main__.AttributeDict,\n",
       "                             {'queue': []})})"
      ]
     },
     "execution_count": 36,
     "metadata": {},
     "output_type": "execute_result"
    }
   ],
   "source": [
    "a = AttributeDict()\n",
    "a['one'] = 1\n",
    "a['two'] = 2\n",
    "a['three'] = 3\n",
    "a[\"four\"] = 4\n",
    "a[\"five\"] = 5\n",
    "a[\"six\"] = 6\n",
    "\n",
    "a[\"plus\"] = lambda x, y: x+y\n",
    "a[\"minus\"] = lambda x, y: x-y\n",
    "\n",
    "a.three"
   ]
  }
 ],
 "metadata": {
  "kernelspec": {
   "display_name": "Python 3",
   "language": "python",
   "name": "python3"
  },
  "language_info": {
   "codemirror_mode": {
    "name": "ipython",
    "version": 3
   },
   "file_extension": ".py",
   "mimetype": "text/x-python",
   "name": "python",
   "nbconvert_exporter": "python",
   "pygments_lexer": "ipython3",
   "version": "3.8.3"
  }
 },
 "nbformat": 4,
 "nbformat_minor": 4
}
